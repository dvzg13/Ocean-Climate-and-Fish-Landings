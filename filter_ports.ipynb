{
 "cells": [
  {
   "cell_type": "code",
   "execution_count": 1,
   "metadata": {},
   "outputs": [],
   "source": [
    "import pandas as pd\n",
    "import numpy as np"
   ]
  },
  {
   "cell_type": "code",
   "execution_count": 2,
   "metadata": {},
   "outputs": [
    {
     "data": {
      "text/html": [
       "<div>\n",
       "<style scoped>\n",
       "    .dataframe tbody tr th:only-of-type {\n",
       "        vertical-align: middle;\n",
       "    }\n",
       "\n",
       "    .dataframe tbody tr th {\n",
       "        vertical-align: top;\n",
       "    }\n",
       "\n",
       "    .dataframe thead th {\n",
       "        text-align: right;\n",
       "    }\n",
       "</style>\n",
       "<table border=\"1\" class=\"dataframe\">\n",
       "  <thead>\n",
       "    <tr style=\"text-align: right;\">\n",
       "      <th></th>\n",
       "      <th>Year</th>\n",
       "      <th>Port</th>\n",
       "      <th>Millions of Pounds</th>\n",
       "      <th>State</th>\n",
       "    </tr>\n",
       "  </thead>\n",
       "  <tbody>\n",
       "    <tr>\n",
       "      <th>0</th>\n",
       "      <td>2017</td>\n",
       "      <td>Dutch Harbor, AK</td>\n",
       "      <td>768.7</td>\n",
       "      <td>AK</td>\n",
       "    </tr>\n",
       "    <tr>\n",
       "      <th>1</th>\n",
       "      <td>2017</td>\n",
       "      <td>Aleutian Islands (Other), AK</td>\n",
       "      <td>552.3</td>\n",
       "      <td>AK</td>\n",
       "    </tr>\n",
       "    <tr>\n",
       "      <th>2</th>\n",
       "      <td>2017</td>\n",
       "      <td>Kodiak, AK</td>\n",
       "      <td>530.4</td>\n",
       "      <td>AK</td>\n",
       "    </tr>\n",
       "    <tr>\n",
       "      <th>3</th>\n",
       "      <td>2017</td>\n",
       "      <td>Reedville, VA</td>\n",
       "      <td>319.9</td>\n",
       "      <td>VA</td>\n",
       "    </tr>\n",
       "    <tr>\n",
       "      <th>4</th>\n",
       "      <td>2017</td>\n",
       "      <td>Pascagoula-Moss Point, MS</td>\n",
       "      <td>301.3</td>\n",
       "      <td>MS</td>\n",
       "    </tr>\n",
       "  </tbody>\n",
       "</table>\n",
       "</div>"
      ],
      "text/plain": [
       "   Year                          Port  Millions of Pounds State\n",
       "0  2017              Dutch Harbor, AK               768.7    AK\n",
       "1  2017  Aleutian Islands (Other), AK               552.3    AK\n",
       "2  2017                    Kodiak, AK               530.4    AK\n",
       "3  2017                 Reedville, VA               319.9    VA\n",
       "4  2017     Pascagoula-Moss Point, MS               301.3    MS"
      ]
     },
     "execution_count": 2,
     "metadata": {},
     "output_type": "execute_result"
    }
   ],
   "source": [
    "df = pd.read_csv('data/processed/landings_processed.csv')\n",
    "df.head()"
   ]
  },
  {
   "cell_type": "code",
   "execution_count": 3,
   "metadata": {},
   "outputs": [],
   "source": [
    "ports = {}\n",
    "def compile_ports(row):\n",
    "    if(str(row['Port']) in ports):\n",
    "        ports[str(row['Port'])] += 1\n",
    "    else:\n",
    "        ports[str(row['Port'])] = 1"
   ]
  },
  {
   "cell_type": "code",
   "execution_count": 10,
   "metadata": {},
   "outputs": [],
   "source": [
    "ne = ['ME', 'NH', 'MA', 'RI', 'CT']\n",
    "south_atl = ['NC', 'SC', 'GA', 'FL']\n",
    "mid_atl = ['MD', 'VA', 'NJ', 'NY', 'NJ', 'DE']\n",
    "gulf = ['TX', 'LA', 'MS', 'AL', 'FL']\n",
    "combo = ['ME', 'NH', 'MA', 'RI', 'CT', 'NJ', 'NY', 'DE', 'MD', 'VA', 'NC', 'SC', 'GA', 'TX', 'LA', 'MS',\n",
    "         'AL', 'FL']\n",
    "\n",
    "ne_set = set(ne)\n",
    "mid_atl_set = set(mid_atl)\n",
    "south_atl_set = set(south_atl)\n",
    "gulf_set = set(gulf)\n",
    "combo_set = set(combo)"
   ]
  },
  {
   "cell_type": "code",
   "execution_count": 11,
   "metadata": {},
   "outputs": [
    {
     "name": "stdout",
     "output_type": "stream",
     "text": [
      "958, 500, 430, 433\n"
     ]
    }
   ],
   "source": [
    "df_combo = df[df['State'].isin(combo_set)]\n",
    "df_gulf = df[df['State'].isin(gulf_set)]\n",
    "df_south_atl = df[df['State'].isin(south_atl_set)]\n",
    "df_mid_atl = df[df['State'].isin(mid_atl_set)]\n",
    "df_ne = df[df['State'].isin(ne_set)]\n",
    "print(str(len(df_gulf.index)) + ', ' + str(len(df_south_atl.index)) + ', ' + str(len(df_mid_atl.index)) + ', ' + str(len(df_ne.index)))"
   ]
  },
  {
   "cell_type": "code",
   "execution_count": null,
   "metadata": {},
   "outputs": [],
   "source": []
  }
 ],
 "metadata": {
  "kernelspec": {
   "display_name": "Python 3",
   "language": "python",
   "name": "python3"
  },
  "language_info": {
   "codemirror_mode": {
    "name": "ipython",
    "version": 3
   },
   "file_extension": ".py",
   "mimetype": "text/x-python",
   "name": "python",
   "nbconvert_exporter": "python",
   "pygments_lexer": "ipython3",
   "version": "3.7.3"
  }
 },
 "nbformat": 4,
 "nbformat_minor": 2
}
