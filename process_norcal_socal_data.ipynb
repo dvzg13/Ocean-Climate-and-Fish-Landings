{
 "cells": [
  {
   "cell_type": "code",
   "execution_count": 1,
   "metadata": {},
   "outputs": [],
   "source": [
    "import pandas as pd\n",
    "import numpy as np\n",
    "import matplotlib.pyplot as plt\n",
    "import math"
   ]
  },
  {
   "cell_type": "code",
   "execution_count": 2,
   "metadata": {},
   "outputs": [],
   "source": [
    "df = pd.read_csv('data/processed/filtered_ports.csv')\n",
    "norcal = ['Crescent City, CA', 'San Francisco Area, CA', 'Monterey, CA']\n",
    "socal = ['Los Angeles, CA', 'Monterey, CA', 'San Diego, CA']\n",
    "norcal = set(norcal)\n",
    "socal = set(socal)\n",
    "\n",
    "def assign_cal_region(row):\n",
    "    if(row['State'] == 'CA'):\n",
    "        if(row['Port'] in norcal):\n",
    "            return 'CAN'\n",
    "        else:\n",
    "            return 'CAS'\n",
    "    return row['State']\n",
    "\n",
    "df['State'] = df.apply(lambda x: assign_cal_region(x), axis=1)"
   ]
  },
  {
   "cell_type": "code",
   "execution_count": 3,
   "metadata": {},
   "outputs": [],
   "source": [
    "def assign_region_id(row):\n",
    "    if(row['State'] == 'CAN'):\n",
    "        return 6\n",
    "    elif(row['State'] == 'CAS'):\n",
    "        return 7\n",
    "    return row['Region']\n",
    "\n",
    "df['Region'] = df.apply(lambda x: assign_region_id(x), axis=1)"
   ]
  },
  {
   "cell_type": "code",
   "execution_count": 4,
   "metadata": {},
   "outputs": [],
   "source": [
    "gulf_temp = pd.read_csv('data/temp/avg_yearly_gulf.csv')\n",
    "south_atl_temp = pd.read_csv('data/temp/avg_yearly_south_atl.csv')\n",
    "mid_atl_temp = pd.read_csv('data/temp/avg_yearly_mid_atl.csv')\n",
    "ne_temp = pd.read_csv('data/temp/avg_yearly_ne.csv')\n",
    "ak_temp = pd.read_csv('data/temp/avg_yearly_ak.csv')\n",
    "nw_temp = pd.read_csv('data/temp/avg_yearly_nw.csv')\n",
    "norcal_temp = pd.read_csv('data/temp/avg_yearly_norcal.csv')\n",
    "socal_temp = pd.read_csv('data/temp/avg_yearly_socal.csv')\n",
    "\n",
    "def apply_temp_values(row):\n",
    "    if(row['Region'] == 0):\n",
    "        return gulf_temp['avg_yearly_temp'][row['Year'] - 1980]\n",
    "    elif(row['Region'] == 1):\n",
    "        return south_atl_temp['avg_yearly_temp'][row['Year'] - 1980]\n",
    "    elif(row['Region'] == 2):\n",
    "        return mid_atl_temp['avg_yearly_temp'][row['Year'] - 1980]\n",
    "    elif(row['Region'] == 3):\n",
    "        return ne_temp['avg_yearly_temp'][row['Year'] - 1980]\n",
    "    elif(row['Region'] == 4):\n",
    "        return ak_temp['avg_yearly_temp'][row['Year'] - 1980]\n",
    "    elif(row['Region'] == 5):\n",
    "        return nw_temp['avg_yearly_temp'][row['Year'] - 1980]\n",
    "    elif(row['Region'] == 6):\n",
    "        return norcal_temp['avg_yearly_temp'][row['Year'] - 1980]\n",
    "    elif(row['Region'] == 7):\n",
    "        return socal_temp['avg_yearly_temp'][row['Year'] - 1980]\n",
    "    else:\n",
    "        return math.nan"
   ]
  },
  {
   "cell_type": "code",
   "execution_count": 5,
   "metadata": {},
   "outputs": [
    {
     "data": {
      "text/html": [
       "<div>\n",
       "<style scoped>\n",
       "    .dataframe tbody tr th:only-of-type {\n",
       "        vertical-align: middle;\n",
       "    }\n",
       "\n",
       "    .dataframe tbody tr th {\n",
       "        vertical-align: top;\n",
       "    }\n",
       "\n",
       "    .dataframe thead th {\n",
       "        text-align: right;\n",
       "    }\n",
       "</style>\n",
       "<table border=\"1\" class=\"dataframe\">\n",
       "  <thead>\n",
       "    <tr style=\"text-align: right;\">\n",
       "      <th></th>\n",
       "      <th>Year</th>\n",
       "      <th>Port</th>\n",
       "      <th>Yield</th>\n",
       "      <th>State</th>\n",
       "      <th>Region</th>\n",
       "      <th>Port_ID</th>\n",
       "      <th>Temp</th>\n",
       "    </tr>\n",
       "  </thead>\n",
       "  <tbody>\n",
       "    <tr>\n",
       "      <th>0</th>\n",
       "      <td>1981</td>\n",
       "      <td>Brownsville-Port Isabel, TX</td>\n",
       "      <td>28.0</td>\n",
       "      <td>TX</td>\n",
       "      <td>0</td>\n",
       "      <td>0</td>\n",
       "      <td>21.083722</td>\n",
       "    </tr>\n",
       "    <tr>\n",
       "      <th>1</th>\n",
       "      <td>1982</td>\n",
       "      <td>Brownsville-Port Isabel, TX</td>\n",
       "      <td>19.0</td>\n",
       "      <td>TX</td>\n",
       "      <td>0</td>\n",
       "      <td>0</td>\n",
       "      <td>21.838193</td>\n",
       "    </tr>\n",
       "    <tr>\n",
       "      <th>2</th>\n",
       "      <td>1983</td>\n",
       "      <td>Brownsville-Port Isabel, TX</td>\n",
       "      <td>21.0</td>\n",
       "      <td>TX</td>\n",
       "      <td>0</td>\n",
       "      <td>0</td>\n",
       "      <td>22.162636</td>\n",
       "    </tr>\n",
       "    <tr>\n",
       "      <th>3</th>\n",
       "      <td>1984</td>\n",
       "      <td>Brownsville-Port Isabel, TX</td>\n",
       "      <td>23.0</td>\n",
       "      <td>TX</td>\n",
       "      <td>0</td>\n",
       "      <td>0</td>\n",
       "      <td>21.856949</td>\n",
       "    </tr>\n",
       "    <tr>\n",
       "      <th>4</th>\n",
       "      <td>1985</td>\n",
       "      <td>Brownsville-Port Isabel, TX</td>\n",
       "      <td>22.9</td>\n",
       "      <td>TX</td>\n",
       "      <td>0</td>\n",
       "      <td>0</td>\n",
       "      <td>21.438654</td>\n",
       "    </tr>\n",
       "  </tbody>\n",
       "</table>\n",
       "</div>"
      ],
      "text/plain": [
       "   Year                         Port  Yield State  Region  Port_ID       Temp\n",
       "0  1981  Brownsville-Port Isabel, TX   28.0    TX       0        0  21.083722\n",
       "1  1982  Brownsville-Port Isabel, TX   19.0    TX       0        0  21.838193\n",
       "2  1983  Brownsville-Port Isabel, TX   21.0    TX       0        0  22.162636\n",
       "3  1984  Brownsville-Port Isabel, TX   23.0    TX       0        0  21.856949\n",
       "4  1985  Brownsville-Port Isabel, TX   22.9    TX       0        0  21.438654"
      ]
     },
     "execution_count": 5,
     "metadata": {},
     "output_type": "execute_result"
    }
   ],
   "source": [
    "df['Temp'] = df.apply(lambda x: apply_temp_values(x), axis=1)\n",
    "df.to_csv('data/processed/filtered_ports_with_temp.csv', index=False)"
   ]
  },
  {
   "cell_type": "code",
   "execution_count": null,
   "metadata": {},
   "outputs": [],
   "source": []
  }
 ],
 "metadata": {
  "kernelspec": {
   "display_name": "Python 3",
   "language": "python",
   "name": "python3"
  },
  "language_info": {
   "codemirror_mode": {
    "name": "ipython",
    "version": 3
   },
   "file_extension": ".py",
   "mimetype": "text/x-python",
   "name": "python",
   "nbconvert_exporter": "python",
   "pygments_lexer": "ipython3",
   "version": "3.7.3"
  }
 },
 "nbformat": 4,
 "nbformat_minor": 2
}
