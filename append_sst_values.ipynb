{
 "cells": [
  {
   "cell_type": "code",
   "execution_count": 1,
   "metadata": {},
   "outputs": [],
   "source": [
    "import netCDF4\n",
    "import numpy as np\n",
    "import pandas as pd"
   ]
  },
  {
   "cell_type": "code",
   "execution_count": 2,
   "metadata": {},
   "outputs": [
    {
     "data": {
      "text/plain": [
       "dict_keys(['lat', 'lon', 'time_bnds', 'time', 'sst'])"
      ]
     },
     "execution_count": 2,
     "metadata": {},
     "output_type": "execute_result"
    }
   ],
   "source": [
    "nc = netCDF4.Dataset('data/sst.mnmean.nc', mode='r')\n",
    "nc.variables.keys()"
   ]
  },
  {
   "cell_type": "code",
   "execution_count": 3,
   "metadata": {},
   "outputs": [
    {
     "name": "stdout",
     "output_type": "stream",
     "text": [
      "('time', 'lat', 'lon')\n"
     ]
    }
   ],
   "source": [
    "sst = nc.variables['sst']\n",
    "print(sst.dimensions)"
   ]
  },
  {
   "cell_type": "code",
   "execution_count": 4,
   "metadata": {},
   "outputs": [],
   "source": [
    "lon = nc.variables['lon']\n",
    "lat = nc.variables['lat']\n",
    "time = nc.variables['time']\n",
    "lon_array = lon[:]\n",
    "lat_array = lat[:]\n",
    "time_array = time[:]"
   ]
  },
  {
   "cell_type": "code",
   "execution_count": 6,
   "metadata": {},
   "outputs": [],
   "source": [
    "df_gulf = pd.read_csv('data/lon-lat/lon-lat_gulf.csv')\n",
    "df_mid_atl = pd.read_csv('data/lon-lat/lon-lat_mid-atl.csv')\n",
    "df_ne = pd.read_csv('data/lon-lat/lon-lat_ne.csv')\n",
    "df_south_atl = pd.read_csv('data/lon-lat/lon-lat_south-atl.csv')\n",
    "df_ak = pd.read_csv('data/lon-lat/alaska-lat-lon.csv')\n",
    "df_ak.columns = ['lon', 'lat', 'coordinates']\n",
    "df_norcal = pd.read_csv('data/lon-lat/lon-lat_norcal.csv')\n",
    "df_socal = pd.read_csv('data/lon-lat/lon-lat_socal.csv')\n",
    "df_nw = pd.read_csv('data/lon-lat/lon-lat_nw.csv')"
   ]
  },
  {
   "cell_type": "code",
   "execution_count": 7,
   "metadata": {},
   "outputs": [],
   "source": [
    "#format 1: gulf, mid-atl, ne, south-atl\n",
    "#format 2: ak, norcal, socal, nw\n",
    "def get_monthly_temps_format_1(row):\n",
    "    a = np.abs(lon_array - (360 - int(row['lon']))).argmin()\n",
    "    b = np.abs(lat_array - int(row['lat'])).argmin()\n",
    "    c = np.abs(time_array - 65743).argmin()\n",
    "    return sst[c:, b, a]\n",
    "def get_monthly_temps_format_2(row):\n",
    "    a = np.abs(lon_array - (360 + int(row['lon']))).argmin()\n",
    "    b = np.abs(lat_array - int(row['lat'])).argmin()\n",
    "    c = np.abs(time_array - 65743).argmin()\n",
    "    return sst[c:, b, a]\n",
    "def get_mt_len(row):\n",
    "    return len(row['monthly_temps'])"
   ]
  },
  {
   "cell_type": "code",
   "execution_count": 8,
   "metadata": {},
   "outputs": [
    {
     "data": {
      "text/html": [
       "<div>\n",
       "<style scoped>\n",
       "    .dataframe tbody tr th:only-of-type {\n",
       "        vertical-align: middle;\n",
       "    }\n",
       "\n",
       "    .dataframe tbody tr th {\n",
       "        vertical-align: top;\n",
       "    }\n",
       "\n",
       "    .dataframe thead th {\n",
       "        text-align: right;\n",
       "    }\n",
       "</style>\n",
       "<table border=\"1\" class=\"dataframe\">\n",
       "  <thead>\n",
       "    <tr style=\"text-align: right;\">\n",
       "      <th></th>\n",
       "      <th>lon</th>\n",
       "      <th>lat</th>\n",
       "      <th>coord</th>\n",
       "      <th>monthly_temps</th>\n",
       "    </tr>\n",
       "  </thead>\n",
       "  <tbody>\n",
       "    <tr>\n",
       "      <th>0</th>\n",
       "      <td>-128</td>\n",
       "      <td>42</td>\n",
       "      <td>(-128, 42)</td>\n",
       "      <td>[11.538263, 11.142895, 11.0544195, 11.12162, 1...</td>\n",
       "    </tr>\n",
       "    <tr>\n",
       "      <th>1</th>\n",
       "      <td>-126</td>\n",
       "      <td>42</td>\n",
       "      <td>(-126, 42)</td>\n",
       "      <td>[11.287214, 11.181692, 11.171088, 11.239025, 1...</td>\n",
       "    </tr>\n",
       "    <tr>\n",
       "      <th>2</th>\n",
       "      <td>-128</td>\n",
       "      <td>40</td>\n",
       "      <td>(-128, 40)</td>\n",
       "      <td>[12.57473, 12.166348, 11.909349, 11.98165, 12....</td>\n",
       "    </tr>\n",
       "    <tr>\n",
       "      <th>3</th>\n",
       "      <td>-126</td>\n",
       "      <td>40</td>\n",
       "      <td>(-126, 40)</td>\n",
       "      <td>[12.240147, 12.088392, 11.904621, 11.8491535, ...</td>\n",
       "    </tr>\n",
       "    <tr>\n",
       "      <th>4</th>\n",
       "      <td>-128</td>\n",
       "      <td>38</td>\n",
       "      <td>(-128, 38)</td>\n",
       "      <td>[13.736889, 13.296152, 12.894535, 12.969714, 1...</td>\n",
       "    </tr>\n",
       "    <tr>\n",
       "      <th>5</th>\n",
       "      <td>-126</td>\n",
       "      <td>38</td>\n",
       "      <td>(-126, 38)</td>\n",
       "      <td>[13.338353, 13.081243, 12.793622, 12.67702, 12...</td>\n",
       "    </tr>\n",
       "    <tr>\n",
       "      <th>6</th>\n",
       "      <td>-124</td>\n",
       "      <td>38</td>\n",
       "      <td>(-124, 38)</td>\n",
       "      <td>[13.119895, 13.089291, 12.835169, 12.389524, 1...</td>\n",
       "    </tr>\n",
       "    <tr>\n",
       "      <th>7</th>\n",
       "      <td>-126</td>\n",
       "      <td>36</td>\n",
       "      <td>(-126, 36)</td>\n",
       "      <td>[14.604786, 14.227657, 13.867433, 13.738002, 1...</td>\n",
       "    </tr>\n",
       "    <tr>\n",
       "      <th>8</th>\n",
       "      <td>-124</td>\n",
       "      <td>36</td>\n",
       "      <td>(-124, 36)</td>\n",
       "      <td>[14.204532, 14.031601, 13.764437, 13.329212, 1...</td>\n",
       "    </tr>\n",
       "    <tr>\n",
       "      <th>9</th>\n",
       "      <td>-122</td>\n",
       "      <td>36</td>\n",
       "      <td>(-122, 36)</td>\n",
       "      <td>[14.0392885, 14.039614, 13.796079, 13.085211, ...</td>\n",
       "    </tr>\n",
       "  </tbody>\n",
       "</table>\n",
       "</div>"
      ],
      "text/plain": [
       "   lon  lat       coord                                      monthly_temps\n",
       "0 -128   42  (-128, 42)  [11.538263, 11.142895, 11.0544195, 11.12162, 1...\n",
       "1 -126   42  (-126, 42)  [11.287214, 11.181692, 11.171088, 11.239025, 1...\n",
       "2 -128   40  (-128, 40)  [12.57473, 12.166348, 11.909349, 11.98165, 12....\n",
       "3 -126   40  (-126, 40)  [12.240147, 12.088392, 11.904621, 11.8491535, ...\n",
       "4 -128   38  (-128, 38)  [13.736889, 13.296152, 12.894535, 12.969714, 1...\n",
       "5 -126   38  (-126, 38)  [13.338353, 13.081243, 12.793622, 12.67702, 12...\n",
       "6 -124   38  (-124, 38)  [13.119895, 13.089291, 12.835169, 12.389524, 1...\n",
       "7 -126   36  (-126, 36)  [14.604786, 14.227657, 13.867433, 13.738002, 1...\n",
       "8 -124   36  (-124, 36)  [14.204532, 14.031601, 13.764437, 13.329212, 1...\n",
       "9 -122   36  (-122, 36)  [14.0392885, 14.039614, 13.796079, 13.085211, ..."
      ]
     },
     "execution_count": 8,
     "metadata": {},
     "output_type": "execute_result"
    }
   ],
   "source": [
    "df_gulf['monthly_temps'] = df_gulf.apply(lambda x: get_monthly_temps_format_1(x), axis=1)\n",
    "df_mid_atl['monthly_temps'] = df_mid_atl.apply(lambda x: get_monthly_temps_format_1(x), axis=1)\n",
    "df_ne['monthly_temps'] = df_ne.apply(lambda x: get_monthly_temps_format_1(x), axis=1)\n",
    "df_south_atl['monthly_temps'] = df_south_atl.apply(lambda x: get_monthly_temps_format_1(x), axis=1)\n",
    "df_ak['monthly_temps'] = df_ak.apply(lambda x: get_monthly_temps_format_2(x), axis=1)\n",
    "df_ak.drop(16) #faulty station value\n",
    "\n",
    "df_norcal['monthly_temps'] = df_norcal.apply(lambda x: get_monthly_temps_format_2(x), axis=1)\n",
    "df_socal['monthly_temps'] = df_socal.apply(lambda x: get_monthly_temps_format_2(x), axis=1)\n",
    "df_nw['monthly_temps'] = df_nw.apply(lambda x: get_monthly_temps_format_2(x), axis=1)\n",
    "df_norcal"
   ]
  },
  {
   "cell_type": "code",
   "execution_count": 11,
   "metadata": {},
   "outputs": [
    {
     "name": "stdout",
     "output_type": "stream",
     "text": [
      "    lon  lat coordinates                                      monthly_temps  \\\n",
      "0    96   28    (96, 28)  [20.730728, 19.63417, 20.033535, 21.657959, 25...   \n",
      "1    94   28    (94, 28)  [20.407877, 19.374058, 19.950226, 21.632412, 2...   \n",
      "2    92   28    (92, 28)  [20.48052, 19.540897, 20.268312, 21.93986, 25....   \n",
      "3    90   28    (90, 28)  [20.907722, 20.058928, 20.833769, 22.449533, 2...   \n",
      "4    88   28    (88, 28)  [21.421728, 20.593494, 21.332998, 22.859287, 2...   \n",
      "5    86   28    (86, 28)  [21.268625, 20.310617, 21.067694, 22.633436, 2...   \n",
      "6    84   28    (84, 28)  [20.789728, 19.642757, 20.44814, 22.161278, 25...   \n",
      "7    96   26    (96, 26)  [22.127575, 21.213999, 21.394415, 22.738552, 2...   \n",
      "8    94   26    (94, 26)  [22.37084, 21.521923, 21.738377, 22.97299, 25....   \n",
      "9    92   26    (92, 26)  [22.519243, 21.75671, 22.086731, 23.258965, 25...   \n",
      "10   90   26    (90, 26)  [22.911386, 22.254501, 22.68875, 23.832203, 26...   \n",
      "11   88   26    (88, 26)  [23.56648, 22.99217, 23.475962, 24.567015, 26....   \n",
      "12   86   26    (86, 26)  [23.595755, 22.948156, 23.4958, 24.643127, 26....   \n",
      "13   84   26    (84, 26)  [22.98779, 22.147903, 22.76421, 24.076063, 26....   \n",
      "14   82   26    (82, 26)  [22.985907, 22.108835, 22.722967, 24.076117, 2...   \n",
      "15   84   24    (84, 24)  [24.86438, 24.274933, 24.699327, 25.6926, 27.2...   \n",
      "16   82   24    (82, 24)  [24.613594, 23.980892, 24.422882, 25.483862, 2...   \n",
      "17   88   30    (88, 30)  [19.2411, 18.219864, 19.25462, 21.283686, 24.6...   \n",
      "18   86   30    (86, 30)  [19.231764, 18.026678, 18.990986, 20.969347, 2...   \n",
      "19   84   30    (84, 30)  [19.297804, 17.947868, 18.912775, 20.887424, 2...   \n",
      "\n",
      "    len_mt  \n",
      "0      480  \n",
      "1      480  \n",
      "2      480  \n",
      "3      480  \n",
      "4      480  \n",
      "5      480  \n",
      "6      480  \n",
      "7      480  \n",
      "8      480  \n",
      "9      480  \n",
      "10     480  \n",
      "11     480  \n",
      "12     480  \n",
      "13     480  \n",
      "14     480  \n",
      "15     480  \n",
      "16     480  \n",
      "17     480  \n",
      "18     480  \n",
      "19     480  \n"
     ]
    }
   ],
   "source": [
    "df_gulf['len_mt'] = df_gulf.apply(lambda x: get_mt_len(x), axis=1)\n",
    "df_mid_atl['len_mt'] = df_mid_atl.apply(lambda x: get_mt_len(x), axis=1)\n",
    "df_ne['len_mt'] = df_ne.apply(lambda x: get_mt_len(x), axis=1)\n",
    "df_south_atl['len_mt'] = df_south_atl.apply(lambda x: get_mt_len(x), axis=1)\n",
    "df_ak['len_mt'] = df_ak.apply(lambda x: get_mt_len(x), axis=1)\n",
    "df_norcal['len_mt'] = df_norcal.apply(lambda x: get_mt_len(x), axis=1)\n",
    "df_socal['len_mt'] = df_socal.apply(lambda x: get_mt_len(x), axis=1)\n",
    "df_nw['len_mt'] = df_nw.apply(lambda x: get_mt_len(x), axis=1)"
   ]
  },
  {
   "cell_type": "code",
   "execution_count": 12,
   "metadata": {},
   "outputs": [],
   "source": [
    "def get_yearly_temps(row):\n",
    "    mt = row['monthly_temps']\n",
    "    yt = []\n",
    "    for i in range(0, int(len(mt)/12)):\n",
    "        yt.append(mt[i * 12])\n",
    "    return yt\n",
    "def get_avg_yearly_temps(df):\n",
    "    avg_yearly_temps = []\n",
    "    n = 0\n",
    "    for r in df.itertuples():\n",
    "        for i in range(len(r.yearly_temps)):\n",
    "            if(i >= len(avg_yearly_temps)):\n",
    "                avg_yearly_temps.append(r.yearly_temps[i])\n",
    "            else:\n",
    "                avg_yearly_temps[i] += r.yearly_temps[i]\n",
    "        n += 1\n",
    "    for i in range(len(avg_yearly_temps)):\n",
    "        avg_yearly_temps[i] /= n\n",
    "    return avg_yearly_temps"
   ]
  },
  {
   "cell_type": "code",
   "execution_count": 14,
   "metadata": {},
   "outputs": [],
   "source": [
    "test = df_socal.apply(lambda x: get_yearly_temps(x), axis=1)\n",
    "df_gulf['yearly_temps'] = df_gulf.apply(lambda x: get_yearly_temps(x), axis=1)\n",
    "df_mid_atl['yearly_temps'] = df_mid_atl.apply(lambda x: get_yearly_temps(x), axis=1)\n",
    "df_ne['yearly_temps'] = df_ne.apply(lambda x: get_yearly_temps(x), axis=1)\n",
    "df_south_atl['yearly_temps'] = df_south_atl.apply(lambda x: get_yearly_temps(x), axis=1)\n",
    "df_ak['yearly_temps'] = df_ak.apply(lambda x: get_yearly_temps(x), axis=1)\n",
    "df_norcal['yearly_temps'] = df_norcal.apply(lambda x: get_yearly_temps(x), axis=1)\n",
    "df_socal['yearly_temps'] = df_socal.apply(lambda x: get_yearly_temps(x), axis=1)\n",
    "df_nw['yearly_temps'] = df_nw.apply(lambda x: get_yearly_temps(x), axis=1)"
   ]
  },
  {
   "cell_type": "code",
   "execution_count": 19,
   "metadata": {},
   "outputs": [],
   "source": [
    "avg_yearly_gulf = get_avg_yearly_temps(df_gulf)\n",
    "avg_yearly_mid_atl = get_avg_yearly_temps(df_mid_atl)\n",
    "avg_yearly_ne = get_avg_yearly_temps(df_ne)\n",
    "avg_yearly_south_atl = get_avg_yearly_temps(df_south_atl)\n",
    "avg_yearly_ak = get_avg_yearly_temps(df_ak)\n",
    "avg_yearly_norcal = get_avg_yearly_temps(df_norcal)\n",
    "avg_yearly_socal = get_avg_yearly_temps(df_socal)\n",
    "avg_yearly_nw = get_avg_yearly_temps(df_nw)"
   ]
  },
  {
   "cell_type": "code",
   "execution_count": 21,
   "metadata": {},
   "outputs": [],
   "source": [
    "avg_yearly_gulf_df = pd.DataFrame(avg_yearly_gulf, columns=['avg_yearly_temp'])\n",
    "avg_yearly_mid_atl_df = pd.DataFrame(avg_yearly_mid_atl, columns=['avg_yearly_temp'])\n",
    "avg_yearly_ne_df = pd.DataFrame(avg_yearly_ne, columns=['avg_yearly_temp'])\n",
    "avg_yearly_south_atl_df = pd.DataFrame(avg_yearly_south_atl, columns=['avg_yearly_temp'])\n",
    "avg_yearly_ak_df = pd.DataFrame(avg_yearly_ak, columns=['avg_yearly_temp'])\n",
    "avg_yearly_norcal_df = pd.DataFrame(avg_yearly_norcal, columns=['avg_yearly_temp'])\n",
    "avg_yearly_socal_df = pd.DataFrame(avg_yearly_socal, columns=['avg_yearly_temp'])\n",
    "avg_yearly_nw_df = pd.DataFrame(avg_yearly_nw, columns=['avg_yearly_temp'])"
   ]
  },
  {
   "cell_type": "code",
   "execution_count": 22,
   "metadata": {},
   "outputs": [],
   "source": [
    "avg_yearly_gulf_df.to_csv('data/temp/avg_yearly_gulf.csv', index=False)\n",
    "avg_yearly_mid_atl_df.to_csv('data/temp/avg_yearly_mid_atl.csv', index=False)\n",
    "avg_yearly_ne_df.to_csv('data/temp/avg_yearly_ne.csv', index=False)\n",
    "avg_yearly_south_atl_df.to_csv('data/temp/avg_yearly_south_atl.csv', index=False)\n",
    "avg_yearly_ak_df.to_csv('data/temp/avg_yearly_ak.csv', index=False)\n",
    "avg_yearly_norcal_df.to_csv('data/temp/avg_yearly_norcal.csv', index=False)\n",
    "avg_yearly_socal_df.to_csv('data/temp/avg_yearly_socal.csv', index=False)\n",
    "avg_yearly_nw_df.to_csv('data/temp/avg_yearly_nw.csv', index=False)"
   ]
  },
  {
   "cell_type": "code",
   "execution_count": null,
   "metadata": {},
   "outputs": [],
   "source": []
  }
 ],
 "metadata": {
  "kernelspec": {
   "display_name": "Python 3",
   "language": "python",
   "name": "python3"
  },
  "language_info": {
   "codemirror_mode": {
    "name": "ipython",
    "version": 3
   },
   "file_extension": ".py",
   "mimetype": "text/x-python",
   "name": "python",
   "nbconvert_exporter": "python",
   "pygments_lexer": "ipython3",
   "version": "3.7.3"
  }
 },
 "nbformat": 4,
 "nbformat_minor": 2
}
