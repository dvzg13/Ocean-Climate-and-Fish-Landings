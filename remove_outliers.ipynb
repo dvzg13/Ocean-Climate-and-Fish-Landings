{
 "cells": [
  {
   "cell_type": "code",
   "execution_count": 1,
   "metadata": {},
   "outputs": [],
   "source": [
    "import numpy as np\n",
    "import pandas as pd\n",
    "from scipy import stats"
   ]
  },
  {
   "cell_type": "code",
   "execution_count": 2,
   "metadata": {},
   "outputs": [],
   "source": [
    "df = pd.read_csv('data/processed/filtered_ports_w_temp_msl.csv')"
   ]
  },
  {
   "cell_type": "code",
   "execution_count": 3,
   "metadata": {},
   "outputs": [],
   "source": [
    "dataframes = {}\n",
    "port_set = set(df['Port'])\n",
    "for port in port_set:\n",
    "    dataframes[port] = df[df['Port'] == port]"
   ]
  },
  {
   "cell_type": "code",
   "execution_count": 4,
   "metadata": {},
   "outputs": [],
   "source": [
    "def nan_outliers_yield(row):\n",
    "    if(row['Yield'] < (Q1_yield - 1.5 * IQR_yield) or row['Yield'] > (Q3_yield + 1.5 * IQR_yield)):\n",
    "        return np.nan\n",
    "    return row['Yield']\n",
    "def nan_outliers_temp(row):\n",
    "    if(row['Temp'] < (Q1_temp - 1.5 * IQR_temp) or row['Temp'] > (Q3_temp + 1.5 * IQR_temp)):\n",
    "        return np.nan\n",
    "    return row['Temp']\n",
    "def nan_outliers_msl(row):\n",
    "    if(row['MSL'] < (Q1_msl - 1.5 * IQR_msl) or row['MSL'] > (Q3_msl + 1.5 * IQR_msl)):\n",
    "        return np.nan\n",
    "    return row['MSL']"
   ]
  },
  {
   "cell_type": "code",
   "execution_count": 5,
   "metadata": {},
   "outputs": [
    {
     "name": "stderr",
     "output_type": "stream",
     "text": [
      "C:\\Users\\acaso\\Anaconda3\\lib\\site-packages\\ipykernel_launcher.py:14: SettingWithCopyWarning: \n",
      "A value is trying to be set on a copy of a slice from a DataFrame.\n",
      "Try using .loc[row_indexer,col_indexer] = value instead\n",
      "\n",
      "See the caveats in the documentation: http://pandas.pydata.org/pandas-docs/stable/indexing.html#indexing-view-versus-copy\n",
      "  \n",
      "C:\\Users\\acaso\\Anaconda3\\lib\\site-packages\\ipykernel_launcher.py:15: SettingWithCopyWarning: \n",
      "A value is trying to be set on a copy of a slice from a DataFrame.\n",
      "Try using .loc[row_indexer,col_indexer] = value instead\n",
      "\n",
      "See the caveats in the documentation: http://pandas.pydata.org/pandas-docs/stable/indexing.html#indexing-view-versus-copy\n",
      "  from ipykernel import kernelapp as app\n",
      "C:\\Users\\acaso\\Anaconda3\\lib\\site-packages\\ipykernel_launcher.py:16: SettingWithCopyWarning: \n",
      "A value is trying to be set on a copy of a slice from a DataFrame.\n",
      "Try using .loc[row_indexer,col_indexer] = value instead\n",
      "\n",
      "See the caveats in the documentation: http://pandas.pydata.org/pandas-docs/stable/indexing.html#indexing-view-versus-copy\n",
      "  app.launch_new_instance()\n"
     ]
    }
   ],
   "source": [
    "for key in dataframes.keys():\n",
    "    Q1_yield = dataframes[key]['Yield'].quantile(0.25)\n",
    "    Q3_yield = dataframes[key]['Yield'].quantile(0.75)\n",
    "    IQR_yield = Q3_yield - Q1_yield\n",
    "    Q1_temp = dataframes[key]['Temp'].quantile(0.25)\n",
    "    Q3_temp = dataframes[key]['Temp'].quantile(0.75)\n",
    "    IQR_temp = Q3_temp - Q1_temp\n",
    "    Q1_msl = dataframes[key]['MSL'].quantile(0.25)\n",
    "    Q3_msl = dataframes[key]['MSL'].quantile(0.75)\n",
    "    IQR_msl = Q3_msl - Q1_msl\n",
    "    #dataframes[key] = dataframes[key][~((dataframes[key]['Yield'] < (Q1_yield - 1.5 * IQR_yield)) |(dataframes[key]['Yield'] > (Q3_yield + 1.5 * IQR_yield)))]\n",
    "    #dataframes[key] = dataframes[key][~((dataframes[key]['Temp'] < (Q1_temp - 1.5 * IQR_temp)) |(dataframes[key]['Temp'] > (Q3_temp + 1.5 * IQR_temp)))]\n",
    "    #dataframes[key] = dataframes[key][~((dataframes[key]['MSL'] < (Q1_msl - 1.5 * IQR_msl)) |(dataframes[key]['MSL'] > (Q3_msl + 1.5 * IQR_msl)))]\n",
    "    dataframes[key]['Yield'] = dataframes[key].apply(lambda x: nan_outliers_yield(x), axis=1)\n",
    "    dataframes[key]['Temp'] = dataframes[key].apply(lambda x: nan_outliers_temp(x), axis=1)\n",
    "    dataframes[key]['MSL'] = dataframes[key].apply(lambda x: nan_outliers_msl(x), axis=1)"
   ]
  },
  {
   "cell_type": "code",
   "execution_count": 6,
   "metadata": {},
   "outputs": [],
   "source": [
    "df_filtered = pd.DataFrame(columns=['Year', 'Port', 'Yield', 'State', 'Region', 'Port_ID', 'Temp', 'MSL'])\n",
    "for key in dataframes.keys():\n",
    "    df_filtered = df_filtered.append(dataframes[key])\n",
    "df_filtered = df_filtered.sort_index(axis=0)"
   ]
  },
  {
   "cell_type": "code",
   "execution_count": 8,
   "metadata": {},
   "outputs": [],
   "source": [
    "df_filtered.to_csv('data/processed/filtered_ports_w_temp_msl_no_outliers_null.csv', index=False)"
   ]
  },
  {
   "cell_type": "code",
   "execution_count": null,
   "metadata": {},
   "outputs": [],
   "source": []
  }
 ],
 "metadata": {
  "kernelspec": {
   "display_name": "Python 3",
   "language": "python",
   "name": "python3"
  },
  "language_info": {
   "codemirror_mode": {
    "name": "ipython",
    "version": 3
   },
   "file_extension": ".py",
   "mimetype": "text/x-python",
   "name": "python",
   "nbconvert_exporter": "python",
   "pygments_lexer": "ipython3",
   "version": "3.7.3"
  }
 },
 "nbformat": 4,
 "nbformat_minor": 2
}
